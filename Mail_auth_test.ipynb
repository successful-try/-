{
 "cells": [
  {
   "cell_type": "code",
   "execution_count": 6,
   "metadata": {},
   "outputs": [],
   "source": [
    "import pytest"
   ]
  },
  {
   "cell_type": "code",
   "execution_count": 16,
   "metadata": {},
   "outputs": [],
   "source": [
    "S = \"Mail.ru\""
   ]
  },
  {
   "cell_type": "code",
   "execution_count": 5,
   "metadata": {},
   "outputs": [],
   "source": [
    "l = [1, 3, 5, 7, 9]"
   ]
  },
  {
   "cell_type": "markdown",
   "metadata": {},
   "source": [
    "# Негативные тесты"
   ]
  },
  {
   "cell_type": "code",
   "execution_count": 11,
   "metadata": {},
   "outputs": [],
   "source": [
    "def test_list_1():\n",
    "    try:\n",
    "        assert l[len(l)] \n",
    "    except IndexError:\n",
    "        print(\"list index out of range\")"
   ]
  },
  {
   "cell_type": "code",
   "execution_count": 12,
   "metadata": {},
   "outputs": [
    {
     "name": "stdout",
     "output_type": "stream",
     "text": [
      "list index out of range\n"
     ]
    }
   ],
   "source": [
    "test_list_1()"
   ]
  },
  {
   "cell_type": "code",
   "execution_count": 18,
   "metadata": {},
   "outputs": [],
   "source": [
    "def add_char_in_string(c):\n",
    "    S[0] = c\n",
    "\n",
    "    \n",
    "def test_string_1():\n",
    "    try:\n",
    "        assert add_char_in_string('c')\n",
    "    except TypeError:\n",
    "        print(\"str object does not support item assignment\")"
   ]
  },
  {
   "cell_type": "code",
   "execution_count": 22,
   "metadata": {},
   "outputs": [
    {
     "name": "stdout",
     "output_type": "stream",
     "text": [
      "str object does not support item assignment\n"
     ]
    }
   ],
   "source": [
    "test_string_1()"
   ]
  },
  {
   "cell_type": "markdown",
   "metadata": {},
   "source": [
    "# Обычные тесты"
   ]
  },
  {
   "cell_type": "code",
   "execution_count": 45,
   "metadata": {},
   "outputs": [],
   "source": [
    "def sum_list(x):\n",
    "    sum_ = 0\n",
    "    for elem in x:\n",
    "        sum_ += elem\n",
    "    return sum_\n",
    "\n",
    "def test_list_2():\n",
    "    assert (16 == sum_list([1,3,5,7]))\n",
    "    assert (4 == sum_list([4]))\n",
    "    assert (0 == sum_list([]))\n",
    "    print(\"Test Passed\")"
   ]
  },
  {
   "cell_type": "code",
   "execution_count": 46,
   "metadata": {},
   "outputs": [
    {
     "name": "stdout",
     "output_type": "stream",
     "text": [
      "Test Passed\n"
     ]
    }
   ],
   "source": [
    "test_list_2()"
   ]
  },
  {
   "cell_type": "code",
   "execution_count": 47,
   "metadata": {},
   "outputs": [],
   "source": [
    "def add_char(s):\n",
    "    s += '.'\n",
    "    return s\n",
    "\n",
    "def test_string_2():\n",
    "    assert ('.' == add_char(''))\n",
    "    assert ('Abc.' == add_char('Abc'))\n",
    "    assert ('Xyz...' == add_char('Xyz..'))\n",
    "    print(\"Test Passed\")"
   ]
  },
  {
   "cell_type": "code",
   "execution_count": 49,
   "metadata": {},
   "outputs": [
    {
     "name": "stdout",
     "output_type": "stream",
     "text": [
      "Test Passed\n"
     ]
    }
   ],
   "source": [
    " test_string_2()"
   ]
  },
  {
   "cell_type": "markdown",
   "metadata": {},
   "source": [
    "# Параметризованные тесты"
   ]
  },
  {
   "cell_type": "code",
   "execution_count": 58,
   "metadata": {},
   "outputs": [],
   "source": [
    "def string_func(s):\n",
    "    if len(s) > 6:\n",
    "        return s + \"!\"\n",
    "    elif len(s) < 6:\n",
    "        return s + \"?\"\n",
    "    else:\n",
    "        return s + \"...\""
   ]
  },
  {
   "cell_type": "code",
   "execution_count": 61,
   "metadata": {},
   "outputs": [],
   "source": [
    "def test_string_3(tests):\n",
    "    for answer, data in tests:\n",
    "        assert (answer == string_func(data))\n",
    "    print(\"Test Passed\")"
   ]
  },
  {
   "cell_type": "code",
   "execution_count": 62,
   "metadata": {},
   "outputs": [
    {
     "name": "stdout",
     "output_type": "stream",
     "text": [
      "Test Passed\n"
     ]
    }
   ],
   "source": [
    "tests = [('Mail.ru!', 'Mail.ru'),\n",
    "         ('Yandex...', 'Yandex'),\n",
    "         ('Intel?', 'Intel')]\n",
    "test_string_3(tests)"
   ]
  },
  {
   "cell_type": "code",
   "execution_count": 76,
   "metadata": {},
   "outputs": [],
   "source": [
    "def list_func(l):\n",
    "    if len(l) > 3:\n",
    "        l.append(\"More than three\")\n",
    "        return l\n",
    "    elif len(l) < 3:\n",
    "        l.append(\"Less than three\")\n",
    "        return l\n",
    "    else:\n",
    "        l.append(\"Equal to three\")\n",
    "        return l"
   ]
  },
  {
   "cell_type": "code",
   "execution_count": 77,
   "metadata": {},
   "outputs": [],
   "source": [
    "def test_list_3(tests):\n",
    "    for answer, data in tests:\n",
    "        assert (answer == list_func(data))\n",
    "    print(\"Test Passed\")"
   ]
  },
  {
   "cell_type": "code",
   "execution_count": 78,
   "metadata": {},
   "outputs": [],
   "source": [
    "tests = [([1,'b', 4, 5,\"More than three\"], [1,'b',4,5]),\n",
    "         ([1,'b', \"Less than three\"], [1,'b']),\n",
    "        ([1,'b',4,\"Equal to three\"], [1,'b',4])]"
   ]
  },
  {
   "cell_type": "code",
   "execution_count": 79,
   "metadata": {},
   "outputs": [
    {
     "name": "stdout",
     "output_type": "stream",
     "text": [
      "Test Passed\n"
     ]
    }
   ],
   "source": [
    "test_list_3(tests)"
   ]
  }
 ],
 "metadata": {
  "kernelspec": {
   "display_name": "Python 3",
   "language": "python",
   "name": "python3"
  },
  "language_info": {
   "codemirror_mode": {
    "name": "ipython",
    "version": 3
   },
   "file_extension": ".py",
   "mimetype": "text/x-python",
   "name": "python",
   "nbconvert_exporter": "python",
   "pygments_lexer": "ipython3",
   "version": "3.8.3"
  }
 },
 "nbformat": 4,
 "nbformat_minor": 4
}
